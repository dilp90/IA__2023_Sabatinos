{
  "nbformat": 4,
  "nbformat_minor": 0,
  "metadata": {
    "colab": {
      "provenance": []
    },
    "kernelspec": {
      "name": "python3",
      "display_name": "Python 3"
    },
    "language_info": {
      "name": "python"
    }
  },
  "cells": [
    {
      "cell_type": "markdown",
      "source": [
        "# **Introducción a Colab**\n",
        "Esta es mi primer notebook."
      ],
      "metadata": {
        "id": "8Xj4jLDfAM49"
      }
    },
    {
      "cell_type": "code",
      "execution_count": 1,
      "metadata": {
        "id": "Gwg7mBQx_6zg",
        "colab": {
          "base_uri": "https://localhost:8080/"
        },
        "outputId": "b0904ca2-fe72-45bb-b762-ab8da4b4856c"
      },
      "outputs": [
        {
          "output_type": "stream",
          "name": "stdout",
          "text": [
            "Hola a todos!\n"
          ]
        }
      ],
      "source": [
        "print(\"Hola a todos!\")"
      ]
    }
  ]
}